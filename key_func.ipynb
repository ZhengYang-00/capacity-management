{
 "cells": [
  {
   "cell_type": "code",
   "execution_count": 1,
   "metadata": {},
   "outputs": [],
   "source": [
    "import math\n",
    "import numpy as np\n",
    "import shapefile\n",
    "import time"
   ]
  },
  {
   "cell_type": "code",
   "execution_count": 2,
   "metadata": {},
   "outputs": [
    {
     "name": "stdout",
     "output_type": "stream",
     "text": [
      "[1, 2, 3]\n"
     ]
    }
   ],
   "source": [
    "test = [1,2,3,4]\n",
    "print(test[:-1])"
   ]
  },
  {
   "cell_type": "code",
   "execution_count": 3,
   "metadata": {},
   "outputs": [],
   "source": [
    "class LinkNode:\n",
    "    def __init__(self, idx, position, link_road):\n",
    "        self.idx = idx\n",
    "        self.position = position\n",
    "        self.link_road = link_road\n",
    "    def add_road(self, road_id):\n",
    "        self.link_road.append(road_id)\n",
    "    def __eq__(self,other):\n",
    "        return self.idx == other.idx\n",
    "\n",
    "class Road:\n",
    "    def __init__(self, idx, start_node, end_node, length):\n",
    "        self.idx = idx\n",
    "        self.start_node = start_node\n",
    "        self.end_node = end_node\n",
    "        self.length = length\n",
    "    def assign_jam(self, jam_level):\n",
    "        self.jam_level = jam_level\n",
    "    def __eq__(self,other):\n",
    "        return self.idx == other.idx"
   ]
  },
  {
   "cell_type": "code",
   "execution_count": 4,
   "metadata": {},
   "outputs": [],
   "source": [
    "def cal_tpsg(station, target):\n",
    "    cnt = 0\n",
    "    for psg in station.psg_list:\n",
    "        if psg.a_station == target.station_id:\n",
    "            cnt += 1\n",
    "    return cnt\n",
    "\n",
    "\n",
    "\n",
    "def distance_score(start, target, k_d):\n",
    "    distance = math.sqrt((start.position[0]-target.position[0])**2+(start.position[1]-target.position[1])**2)\n",
    "    return k_d*distance\n",
    "\n",
    "def Passenger_score(start, target, k_p):\n",
    "    return -k_p*(math.exp(target.psg_count)-1)\n",
    "\n",
    "def distrib_score(bus, start, target, k_a):\n",
    "    # 在计算分数前，先将当前站点加入队列\n",
    "    t_psg, all_psg = 0,0\n",
    "    for station in bus.plan_route:\n",
    "        t_psg += cal_tpsg(station, target)\n",
    "        all_psg += station.psg_count\n",
    "    a_s = t_psg/all_psg\n",
    "    return k_a * math.log(a_s)\n",
    "\n",
    "def waittime_score(target, k_w):\n",
    "    average_wait_time = sum([(time.time()-psg.b_time) for psg in target.psg_list])/target.psg_count\n",
    "\n",
    "    return - k_w *[np.exp(average_wait_time)-1]\n",
    "\n",
    "def calculate_score(start, target, k):\n",
    "    return distance_score(start, target, k[0])+Passenger_score(start, target, k[1])+distrib_score(start, target, k[2])+ waittime_score(target, k[3])\n",
    "    \n"
   ]
  },
  {
   "cell_type": "code",
   "execution_count": 5,
   "metadata": {},
   "outputs": [],
   "source": [
    "class Station:\n",
    "    def __init__(self, station_id, psg_list, position):\n",
    "        self.station_id = station_id\n",
    "        self.psg_list = psg_list\n",
    "        self.position = position\n",
    "        self.psg_count = len(self.psg_list)\n",
    "    def add_psg(self, psg):\n",
    "        self.psg_list.append(psg)\n",
    "    def __eq__(self,other):\n",
    "        return self.station_id == other.station_id\n",
    "\n",
    "class Passengers:\n",
    "    def __init__(self, idx,state, b_station, a_station):\n",
    "        self.idx = idx\n",
    "        self.state = state \n",
    "        self.b_station = b_station\n",
    "        self.a_station = a_station \n",
    "        self.b_time = time.time()\n",
    "        self.board_bus = None\n",
    "    def change_state(self, state):\n",
    "        self.state = state \n",
    "    def __eq__(self,other):\n",
    "        return self.idx == other.idx\n",
    "\n",
    "\n",
    "class Bus:\n",
    "    def __init__(self, ID, state, N, psg_list, plan, c_station):\n",
    "        self.ID = ID \n",
    "        self.state = 0\n",
    "        self.N = 20\n",
    "        self.psg_list = []\n",
    "        self.plan_route = []\n",
    "        self.c_station = station\n",
    "    def __eq__(self,other):\n",
    "        return self.ID == other.ID\n",
    "\n",
    "    def choose_next_station(self, station_set:list,station_dict:dict, k_set:list):\n",
    "        station_score = []\n",
    "        for s in self.plan_route:\n",
    "            station_set.remove(s)\n",
    "        for station in station_set:\n",
    "            station_score.append(calculate_score(station_dict[self.c_station],station_dict[station], k_set))\n",
    "        min_value = min(station_score) # 求列表最小值\n",
    "        min_idx = station_score.index(min_value) # 求最小值对应索引\n",
    "        \n",
    "        self.plan_route.append(station_set[min_idx])\n",
    "        return station_set[min_idx]\n",
    "\n",
    "    def state_update(self, station_dict:dict):\n",
    "        if len(plan_route) == 0 or len(plan_route) == 1:\n",
    "            return station_dict\n",
    "        else:\n",
    "            c_station = self.plan_route[-2]\n",
    "            n_station = self.plan_route[-1]\n",
    "            for psg in self.psg_list:\n",
    "                if psg.a_station == c_station:\n",
    "                    self.psg_list.remove(psg)\n",
    "            max_board = self.N - 2*len(self.plan_route)\n",
    "            cnt_board = 0\n",
    "            for station in self.plan_route:\n",
    "                for psg in station_dict[station].psg_list:\n",
    "                    if psg.a_station == station:\n",
    "                        station_dict[station].psg_list.remove(psg)\n",
    "                        self.psg_list.append(psg)\n",
    "                        cnt_board +=1\n",
    "                        if cnt_board >= max_board or len(self>psg_list) > self.N:\n",
    "                            break\n",
    "                if cnt_board >= max_board or len(self>psg_list) > self.N:\n",
    "    \n",
    "                    break\n",
    "        return station_dict            \n",
    "        \n"
   ]
  },
  {
   "cell_type": "code",
   "execution_count": 6,
   "metadata": {},
   "outputs": [],
   "source": [
    "def capacity_manage(avail_bus:list, station_set:list, station_dict:dict, k_set:list, max_route:int):\n",
    "    moving_bus = []\n",
    "    while len(avail_bus) != 0:\n",
    "        for bus in avail_bus:\n",
    "            next_station = bus.choose_next_station(station_set, station_dict, k_set)\n",
    "            station_dict = self.state_update(station_dict)\n",
    "            if len(bus.plan_route) > max_route:\n",
    "                avail_bus.remove(bus)\n",
    "                moving_bus.append(bus)\n",
    "    return moving_bus\n",
    "             "
   ]
  },
  {
   "cell_type": "code",
   "execution_count": 7,
   "metadata": {},
   "outputs": [],
   "source": [
    "def board_simulate(moving_bus:list, station_dict:dict):\n",
    "    for bus in moving_bus:\n",
    "        bus.psg_list = []\n",
    "        for idx in range(len(bus.plan_route)):\n",
    "            station = bus.plan_route[idx]\n",
    "            for psg in station_dict[station].psg_list:\n",
    "                if len(bus_psg_list) >= bus.N:\n",
    "                    break\n",
    "                if psg.state == 0 and psg.a_station in plan_route[idx+1:]:\n",
    "                    psg.state = 1\n",
    "                    psg.board_bus = bus.ID\n",
    "            if len(bus_psg_list) >= bus.N:\n",
    "                break\n",
    "    return station_dict\n"
   ]
  },
  {
   "cell_type": "code",
   "execution_count": null,
   "metadata": {},
   "outputs": [],
   "source": []
  }
 ],
 "metadata": {
  "kernelspec": {
   "display_name": "Python 3.9.7 ('base')",
   "language": "python",
   "name": "python3"
  },
  "language_info": {
   "codemirror_mode": {
    "name": "ipython",
    "version": 3
   },
   "file_extension": ".py",
   "mimetype": "text/x-python",
   "name": "python",
   "nbconvert_exporter": "python",
   "pygments_lexer": "ipython3",
   "version": "3.9.7"
  },
  "orig_nbformat": 4,
  "vscode": {
   "interpreter": {
    "hash": "e3865cfc550049b1ed904b22e96725a49ffe8677e99799b80e8b541c844edde3"
   }
  }
 },
 "nbformat": 4,
 "nbformat_minor": 2
}
